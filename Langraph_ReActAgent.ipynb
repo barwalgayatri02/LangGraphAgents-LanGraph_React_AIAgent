{
  "cells": [
    {
      "cell_type": "code",
      "execution_count": null,
      "metadata": {
        "colab": {
          "base_uri": "https://localhost:8080/"
        },
        "id": "f75L3ZJIO_HL",
        "outputId": "4c542712-2197-45c2-bc3a-dbe7cf355453"
      },
      "outputs": [],
      "source": [
        "!pip install langchain-tavily\n",
        "!pip install langchain_groq\n",
        "!pip install langgraph"
      ]
    },
    {
      "cell_type": "code",
      "execution_count": null,
      "metadata": {
        "colab": {
          "base_uri": "https://localhost:8080/"
        },
        "id": "rw_nwZbVOzRA",
        "outputId": "d58f850d-6718-4bd8-faa0-394b0f322452"
      },
      "outputs": [],
      "source": [
        "import os\n",
        "from langchain_tavily import TavilySearch\n",
        "\n",
        "# Load API key from environment variable\n",
        "tavily_api_key = os.getenv(\"TAVILY_API_KEY\")\n",
        "\n",
        "tool = TavilySearch(\n",
        "    tavily_api_key=tavily_api_key,\n",
        "    max_results=2\n",
        ")\n",
        "\n",
        "result = tool.invoke(\"What is langgraph\")\n",
        "print(result)\n"
      ]
    },
    {
      "cell_type": "code",
      "execution_count": 15,
      "metadata": {
        "id": "KkxQzGNotuP_"
      },
      "outputs": [],
      "source": [
        "def multiplyTool(a:int,b:int) -> int:\n",
        "   \"\"\"Multiply a and b\n",
        "\n",
        "    Args:\n",
        "        a (int): first int\n",
        "        b (int): second int\n",
        "\n",
        "    Returns:\n",
        "        int: output int\n",
        "    \"\"\"\n",
        "   return a*b"
      ]
    },
    {
      "cell_type": "code",
      "execution_count": null,
      "metadata": {
        "id": "6LN-EjP-Qxef"
      },
      "outputs": [],
      "source": [
        "import os\n",
        "from dotenv import load_dotenv\n",
        "from langchain_groq import ChatGroq\n",
        "from langchain.chat_models import init_chat_model\n",
        "\n",
        "# Load variables from .env file\n",
        "load_dotenv()\n",
        "\n",
        "# Get Groq API key from environment\n",
        "groq_api_key = os.getenv(\"GROQ_API_KEY\")\n",
        "\n",
        "# Initialize ChatGroq\n",
        "llm = ChatGroq(\n",
        "    model=\"llama3-8b-8192\",\n",
        "    api_key=groq_api_key\n",
        ")\n"
      ]
    },
    {
      "cell_type": "code",
      "execution_count": null,
      "metadata": {
        "colab": {
          "base_uri": "https://localhost:8080/"
        },
        "id": "k_JFU2scRvqm",
        "outputId": "b9940a4f-ea1f-4e01-c587-3c314d4319f1"
      },
      "outputs": [
        {
          "data": {
            "text/plain": [
              "ChatGroq(client=<groq.resources.chat.completions.Completions object at 0x7eaafabfe510>, async_client=<groq.resources.chat.completions.AsyncCompletions object at 0x7eaafabfe420>, model_name='llama-3.3-70b-versatile', model_kwargs={}, groq_api_key=SecretStr('**********'))"
            ]
          },
          "execution_count": 17,
          "metadata": {},
          "output_type": "execute_result"
        }
      ],
      "source": [
        "import os\n",
        "from dotenv import load_dotenv\n",
        "from langchain.chat_models import init_chat_model\n",
        "\n",
        "# Load .env if you are using it locally\n",
        "load_dotenv()\n",
        "\n",
        "# Make sure GROQ_API_KEY is set in your environment or .env file\n",
        "# .env should contain:\n",
        "# GROQ_API_KEY=gsk_XXXXXX\n",
        "\n",
        "# Initialize model\n",
        "llm = init_chat_model(\"groq:llama-3.3-70b-versatile\")\n",
        "\n",
        "print(llm)\n"
      ]
    },
    {
      "cell_type": "code",
      "execution_count": 18,
      "metadata": {
        "id": "Jr1YaiptSvls"
      },
      "outputs": [],
      "source": [
        "tools=[tool,multiplyTool]"
      ]
    },
    {
      "cell_type": "code",
      "execution_count": 19,
      "metadata": {
        "id": "Uwp9m7dSS3qe"
      },
      "outputs": [],
      "source": [
        "llm_with_tool=llm.bind_tools(tools)"
      ]
    },
    {
      "cell_type": "code",
      "execution_count": 20,
      "metadata": {
        "colab": {
          "base_uri": "https://localhost:8080/"
        },
        "id": "9OefwdyrTJ7m",
        "outputId": "2330f183-b59e-44fd-c7fa-ef30744b3436"
      },
      "outputs": [
        {
          "data": {
            "text/plain": [
              "AIMessage(content='', additional_kwargs={'tool_calls': [{'id': 'xbevrdjjv', 'function': {'arguments': '{\"query\":\"latest AI news\",\"time_range\":\"day\",\"topic\":\"news\"}', 'name': 'tavily_search'}, 'type': 'function'}]}, response_metadata={'token_usage': {'completion_tokens': 31, 'prompt_tokens': 1857, 'total_tokens': 1888, 'completion_time': 0.087879244, 'prompt_time': 0.14178367, 'queue_time': 0.197068068, 'total_time': 0.229662914}, 'model_name': 'llama-3.3-70b-versatile', 'system_fingerprint': 'fp_3f3b593e33', 'service_tier': 'on_demand', 'finish_reason': 'tool_calls', 'logprobs': None}, id='run--50c88084-e399-4028-8e72-b32e8ab2f075-0', tool_calls=[{'name': 'tavily_search', 'args': {'query': 'latest AI news', 'time_range': 'day', 'topic': 'news'}, 'id': 'xbevrdjjv', 'type': 'tool_call'}], usage_metadata={'input_tokens': 1857, 'output_tokens': 31, 'total_tokens': 1888})"
            ]
          },
          "execution_count": 20,
          "metadata": {},
          "output_type": "execute_result"
        }
      ],
      "source": [
        "llm_with_tool.invoke(\"What is latest AI Nesws\")"
      ]
    },
    {
      "cell_type": "code",
      "execution_count": 24,
      "metadata": {
        "id": "XiVMSE4qWaKn"
      },
      "outputs": [],
      "source": [
        "from typing import Annotated\n",
        "\n",
        "from typing_extensions import TypedDict\n",
        "\n",
        "from langgraph.graph import StateGraph,START,END\n",
        "from langgraph.graph.message import add_messages"
      ]
    },
    {
      "cell_type": "code",
      "execution_count": 25,
      "metadata": {
        "id": "KClNCOumWVOO"
      },
      "outputs": [],
      "source": [
        "class State(TypedDict):\n",
        "    # Messages have the type \"list\". The `add_messages` function\n",
        "    # in the annotation defines how this state key should be updated\n",
        "    # (in this case, it appends messages to the list, rather than overwriting them)\n",
        "    messages:Annotated[list,add_messages]"
      ]
    },
    {
      "cell_type": "code",
      "execution_count": 26,
      "metadata": {
        "colab": {
          "base_uri": "https://localhost:8080/",
          "height": 266
        },
        "id": "Rfo_yjcmULOp",
        "outputId": "3bf4a827-9322-439b-b8ba-b6a0fba0ac79"
      },
      "outputs": [
        {
          "data": {
            "image/png": "[encoded data removed]",
            "text/plain": [
              "<IPython.core.display.Image object>"
            ]
          },
          "metadata": {},
          "output_type": "display_data"
        }
      ],
      "source": [
        "## Stategraph\n",
        "from langgraph.graph import StateGraph,START,END\n",
        "from langgraph.prebuilt import ToolNode\n",
        "from langgraph.prebuilt import tools_condition\n",
        "\n",
        "## Node definition\n",
        "def tool_calling_llm(state:State):\n",
        "    return {\"messages\":[llm_with_tool.invoke(state[\"messages\"])]}\n",
        "\n",
        "## Grpah\n",
        "builder=StateGraph(State)\n",
        "builder.add_node(\"tool_calling_llm\",tool_calling_llm)\n",
        "builder.add_node(\"tools\",ToolNode(tools))\n",
        "\n",
        "## Add Edges\n",
        "builder.add_edge(START, \"tool_calling_llm\")\n",
        "builder.add_conditional_edges(\n",
        "    \"tool_calling_llm\",\n",
        "    # If the latest message (result) from assistant is a tool call -> tools_condition routes to tools\n",
        "    # If the latest message (result) from assistant is a not a tool call -> tools_condition routes to END\n",
        "    tools_condition\n",
        ")\n",
        "builder.add_edge(\"tools\",\"tool_calling_llm\")\n",
        "\n",
        "## compile the graph\n",
        "graph=builder.compile()\n",
        "\n",
        "from IPython.display import Image, display\n",
        "display(Image(graph.get_graph().draw_mermaid_png()))\n"
      ]
    },
    {
      "cell_type": "code",
      "execution_count": 27,
      "metadata": {
        "colab": {
          "base_uri": "https://localhost:8080/"
        },
        "id": "i0WR8at8Wkfv",
        "outputId": "e49afa81-6ad5-4661-8d57-c6dc4aa4e982"
      },
      "outputs": [
        {
          "name": "stdout",
          "output_type": "stream",
          "text": [
            "================================\u001b[1m Human Message \u001b[0m=================================\n",
            "\n",
            "Give me the recent ai news and then multiply 5 by 10\n",
            "==================================\u001b[1m Ai Message \u001b[0m==================================\n",
            "Tool Calls:\n",
            "  tavily_search (1e36sbbfj)\n",
            " Call ID: 1e36sbbfj\n",
            "  Args:\n",
            "    query: recent ai news\n",
            "    time_range: day\n",
            "    topic: news\n",
            "  multiplyTool (s4x1rs82c)\n",
            " Call ID: s4x1rs82c\n",
            "  Args:\n",
            "    a: 5\n",
            "    b: 10\n",
            "=================================\u001b[1m Tool Message \u001b[0m=================================\n",
            "Name: tavily_search\n",
            "\n",
            "{\"query\": \"recent ai news\", \"follow_up_questions\": null, \"answer\": null, \"images\": [], \"results\": [{\"url\": \"https://www.govtech.com/education/k-12/baltimore-launches-ai-computer-lab-for-youth-seniors\", \"title\": \"Baltimore Launches AI Computer Lab for Youth, Seniors - GovTech\", \"score\": 0.7062922, \"published_date\": \"Tue, 09 Sep 2025 23:44:27 GMT\", \"content\": \"## A partnership between Intel, NWN and the city of Baltimore aspires to bridge digital equity gaps by giving community members access to new computers and hands-on AI training. Last week, Baltimore Mayor Brandon Scott joined the Intel Corporation and NWN, an AI-powered technology modernization company, to inaugurate an AI Computer Resource Lab at the city’s Greenmount Recreation Center. The partnership, which will provide Intel-based AI PCs and hands-on learning experiences for underserved youth and seniors, aims to address the widening digital divide as AI becomes essential for education and workforce skills, according to a recent news release from NWN. In addition to technology, the lab also allows access to a tailored curriculum to help build AI literacy, Mayor Scott said in the release.\", \"raw_content\": null}, {\"url\": \"https://techcrunch.com/2025/09/10/rss-co-creator-launches-new-protocol-for-ai-data-licensing/\", \"title\": \"RSS co-creator launches new protocol for AI data licensing - TechCrunch\", \"score\": 0.5465209, \"published_date\": \"Wed, 10 Sep 2025 13:07:26 GMT\", \"content\": \"Now, a group of technologists and web publishers has launched a system that would enable data licensing at massive scale — provided AI companies take them up on it. On the technical side, the RSL Protocol lays out specific licensing terms a publisher can set for their content, whether that means AI companies need a custom license or to adopt Creative Commons provisions. Notably, the RSL Collective includes some publishers that already have licensing deals — most notably Reddit, which receives an estimated $60 million a year from Google for use of its training data. When I put the question to Leeds, he pointed to recent comments from AI leaders calling for a system like RSL — most notably from Sundar Pichai at last year’s Dealbook Summit.\", \"raw_content\": null}], \"response_time\": 0.58, \"request_id\": \"f74c0443-d6d5-4cb8-b017-caa1d5bf9752\"}\n",
            "=================================\u001b[1m Tool Message \u001b[0m=================================\n",
            "Name: multiplyTool\n",
            "\n",
            "50\n",
            "==================================\u001b[1m Ai Message \u001b[0m==================================\n",
            "\n",
            "Recent AI news includes the launch of an AI computer lab in Baltimore for youth and seniors, and the introduction of a new protocol for AI data licensing. The result of multiplying 5 by 10 is 50.\n"
          ]
        }
      ],
      "source": [
        "response=graph.invoke({\"messages\":\"Give me the recent ai news and then multiply 5 by 10\"})\n",
        "for m in response['messages']:\n",
        "    m.pretty_print()"
      ]
    }
  ],
  "metadata": {
    "colab": {
      "provenance": []
    },
    "kernelspec": {
      "display_name": "Python 3",
      "name": "python3"
    },
    "language_info": {
      "name": "python"
    }
  },
  "nbformat": 4,
  "nbformat_minor": 0
}
